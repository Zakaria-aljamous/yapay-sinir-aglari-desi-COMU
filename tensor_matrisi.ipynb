{
  "nbformat": 4,
  "nbformat_minor": 0,
  "metadata": {
    "colab": {
      "provenance": []
    },
    "kernelspec": {
      "name": "python3",
      "display_name": "Python 3"
    },
    "language_info": {
      "name": "python"
    }
  },
  "cells": [
    {
      "cell_type": "code",
      "execution_count": null,
      "metadata": {
        "colab": {
          "base_uri": "https://localhost:8080/"
        },
        "id": "jaPcZcuWTd3U",
        "outputId": "77dd7821-d9f1-4889-b3e1-fda291a59724"
      },
      "outputs": [
        {
          "output_type": "stream",
          "name": "stdout",
          "text": [
            "tensor([[0.2003, 0.0296]])\n"
          ]
        }
      ],
      "source": [
        "import torch\n",
        "\n",
        "# Set the random seed for reproducibility\n",
        "torch.manual_seed(170401085)\n",
        "\n",
        "# Define the activation functions\n",
        "def tanh(x):\n",
        "    return (torch.exp(x) - torch.exp(-x)) / (torch.exp(x) + torch.exp(-x))\n",
        "\n",
        "def sigmoid(x):\n",
        "    return 1 / (1 + torch.exp(-x))\n",
        "\n",
        "# Define the dimensions of the network\n",
        "input_size = 3\n",
        "hidden_size = 50\n",
        "output_size = 1\n",
        "\n",
        "# Define the input tensor and convert it to float32\n",
        "X = torch.tensor([[1, 2, 3], [4, 5, 6]], dtype=torch.float32)\n",
        "\n",
        "# Define the weights and biases\n",
        "W1 = torch.randn(hidden_size, input_size)\n",
        "b1 = torch.randn(hidden_size, 1)\n",
        "W2 = torch.randn(output_size, hidden_size)\n",
        "b2 = torch.randn(output_size, 1)\n",
        "\n",
        "# Perform the feed forward propagation\n",
        "hidden_layer = tanh(torch.mm(W1, X.t()) + b1)\n",
        "output_layer = sigmoid(torch.mm(W2, hidden_layer) + b2)\n",
        "\n",
        "# Print the output layer\n",
        "print(output_layer)"
      ]
    }
  ]
}